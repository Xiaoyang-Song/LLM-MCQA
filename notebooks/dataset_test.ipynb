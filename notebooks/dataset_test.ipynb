{
 "cells": [
  {
   "cell_type": "code",
   "execution_count": 1,
   "metadata": {},
   "outputs": [],
   "source": [
    "%load_ext autoreload\n",
    "%autoreload 2"
   ]
  },
  {
   "cell_type": "code",
   "execution_count": 2,
   "metadata": {},
   "outputs": [],
   "source": [
    "import sys\n",
    "sys.path.append(\"../\")\n",
    "from dataset.utils import *\n",
    "from dataset.datasets import *"
   ]
  },
  {
   "cell_type": "code",
   "execution_count": 3,
   "metadata": {},
   "outputs": [
    {
     "name": "stdout",
     "output_type": "stream",
     "text": [
      "<function load_mini_rm at 0x7fd4711159d0>\n"
     ]
    },
    {
     "name": "stderr",
     "output_type": "stream",
     "text": [
      "Found cached dataset race (/Users/xiaoyangsong/Desktop/LLM-MCQA/notebooks/hf_cache/race/middle/0.1.0/5839ff74a429622f5f20cca69c5fcf0e87ac6d5fd2777c42b948000684829f7b)\n",
      "Found cached dataset race (/Users/xiaoyangsong/Desktop/LLM-MCQA/notebooks/hf_cache/race/middle/0.1.0/5839ff74a429622f5f20cca69c5fcf0e87ac6d5fd2777c42b948000684829f7b)\n"
     ]
    },
    {
     "name": "stdout",
     "output_type": "stream",
     "text": [
      "type: <class 'list'> | length: 500\n",
      "[QuestionPart(text=\"My name is Nancy. I'm twelve years old. I have a good friend. Her name is Wendy. She is thirteen. She is from Australia. We are friends, but we are in _ classes. Wendy is in Class Four and I'm in Class Three. I like green and blue but Wendy likes red and yellow. She is a good student, and all the students and teachers in her class like her. Wendy likes running, and she often runs after school. I like basketball and football. I often play basketball with my sister in the afternoon.\\nWe like animals. I have a dog, and she has a cat.     Where are we now? Oh, we are in the park. We play with our dog and cat.\", tag='Passage'), QuestionPart(text='Where is Wendy from?', tag='Question')]\n",
      "['China.', 'England.', 'America.', 'Australia.']\n",
      "3\n",
      "None\n",
      "[]\n",
      "Passage: My name is Nancy. I'm twelve years old. I have a good friend. Her name is Wendy. She is thirteen. She is from Australia. We are friends, but we are in _ classes. Wendy is in Class Four and I'm in Class Three. I like green and blue but Wendy likes red and yellow. She is a good student, and all the students and teachers in her class like her. Wendy likes running, and she often runs after school. I like basketball and football. I often play basketball with my sister in the afternoon.\n",
      "We like animals. I have a dog, and she has a cat.     Where are we now? Oh, we are in the park. We play with our dog and cat.\n",
      "Question: Where is Wendy from?\n",
      "A. China.\n",
      "B. England.\n",
      "C. America.\n",
      "D. Australia.\n",
      "Answer:\n",
      "Passage: My name is Nancy. I'm twelve years old. I have a good friend. Her name is Wendy. She is thirteen. She is from Australia. We are friends, but we are in _ classes. Wendy is in Class Four and I'm in Class Three. I like green and blue but Wendy likes red and yellow. She is a good student, and all the students and teachers in her class like her. Wendy likes running, and she often runs after school. I like basketball and football. I often play basketball with my sister in the afternoon.\n",
      "We like animals. I have a dog, and she has a cat.     Where are we now? Oh, we are in the park. We play with our dog and cat.\n",
      "Question: Where is Wendy from?\n",
      "Answer:\n"
     ]
    }
   ],
   "source": [
    "dset_info = get_dataset_info('mini_rm')\n",
    "print(dset_info)\n",
    "dataset = load_mini_rm(0, False)\n",
    "print(f\"type: {type(dataset)} | length: {len(dataset)}\")\n",
    "data = dataset[1]\n",
    "print(data.parts)\n",
    "print(data.choices)\n",
    "print(data.answer_idx)\n",
    "print(data.task)\n",
    "print(data.exemplars)\n",
    "\n",
    "print(data.get_natural_prompt())\n",
    "print(data.get_brown_prompt())"
   ]
  },
  {
   "cell_type": "code",
   "execution_count": null,
   "metadata": {},
   "outputs": [],
   "source": []
  }
 ],
 "metadata": {
  "kernelspec": {
   "display_name": "Python 3",
   "language": "python",
   "name": "python3"
  },
  "language_info": {
   "codemirror_mode": {
    "name": "ipython",
    "version": 3
   },
   "file_extension": ".py",
   "mimetype": "text/x-python",
   "name": "python",
   "nbconvert_exporter": "python",
   "pygments_lexer": "ipython3",
   "version": "3.9.7"
  },
  "orig_nbformat": 4
 },
 "nbformat": 4,
 "nbformat_minor": 2
}

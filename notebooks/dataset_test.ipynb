{
 "cells": [
  {
   "cell_type": "code",
   "execution_count": 8,
   "metadata": {},
   "outputs": [
    {
     "name": "stdout",
     "output_type": "stream",
     "text": [
      "The autoreload extension is already loaded. To reload it, use:\n",
      "  %reload_ext autoreload\n"
     ]
    }
   ],
   "source": [
    "%load_ext autoreload\n",
    "%autoreload 2"
   ]
  },
  {
   "cell_type": "code",
   "execution_count": 11,
   "metadata": {},
   "outputs": [],
   "source": [
    "import sys\n",
    "sys.path.append(\"../\")\n",
    "from dataset.utils import *\n",
    "from dataset.datasets import *"
   ]
  },
  {
   "cell_type": "code",
   "execution_count": 14,
   "metadata": {},
   "outputs": [
    {
     "name": "stdout",
     "output_type": "stream",
     "text": [
      "<function load_mini_rm at 0x7fd33db40670>\n"
     ]
    },
    {
     "name": "stderr",
     "output_type": "stream",
     "text": [
      "Found cached dataset race (/Users/xiaoyangsong/Desktop/LLM-MCQA/notebooks/hf_cache/race/middle/0.1.0/5839ff74a429622f5f20cca69c5fcf0e87ac6d5fd2777c42b948000684829f7b)\n",
      "Found cached dataset race (/Users/xiaoyangsong/Desktop/LLM-MCQA/notebooks/hf_cache/race/middle/0.1.0/5839ff74a429622f5f20cca69c5fcf0e87ac6d5fd2777c42b948000684829f7b)\n"
     ]
    },
    {
     "name": "stdout",
     "output_type": "stream",
     "text": [
      "type: <class 'list'> | length: 500\n",
      "[QuestionPart(text='Sam is twenty-seven now. He\\'s tall and strong. He worked hard in the small field. He\\'s known a girl called Mabel for three years, who lives in another village. He wishes she could marry him soon, but she won\\'t marry him until he has built a new house. He hasn\\'t enough money. Of course it\\'s difficult for him to do so.\\nWinter had come and the fields were covered with thick snow. Sam had nothing to do at home. Mabel told him to find some _ in the town. He thought she was right and came to Mr White\\'s factory, where he carried stones from the hill to the workplaces. It was hard work but he was paid more. At the end of the month Mr White paid the young man nearly two thousand dollars. He was very happy. He hurried to the post office, but it was closed. He had a look at the clock on the wall. It was half past five, and he was told to go there the next morning. He had to return to the factory. He felt hungry and went into a restaurant and ate something. He didn\\'t see a thief following him, and as soon as he sat at table, the man sat down next to him and asked him to drink a cup with him. He agreed and drank a lot. And when he woke up two hours later, his money was stolen. He was sad of it and cried for a long time.\\nThe following day Mr White saw the young man\\'s eyes were red and asked what had happened to him. He told him about it and at last he said, \"I worked for the thief last month!\"\\n,.', tag='Passage'), QuestionPart(text='Mabel asked Sam to   _  .', tag='Question')]\n",
      "['make money in the town', 'borrow some money from his friend', 'spend the winter in town', 'build a house in her village']\n",
      "0\n",
      "None\n",
      "[]\n",
      "Passage: Sam is twenty-seven now. He's tall and strong. He worked hard in the small field. He's known a girl called Mabel for three years, who lives in another village. He wishes she could marry him soon, but she won't marry him until he has built a new house. He hasn't enough money. Of course it's difficult for him to do so.\n",
      "Winter had come and the fields were covered with thick snow. Sam had nothing to do at home. Mabel told him to find some _ in the town. He thought she was right and came to Mr White's factory, where he carried stones from the hill to the workplaces. It was hard work but he was paid more. At the end of the month Mr White paid the young man nearly two thousand dollars. He was very happy. He hurried to the post office, but it was closed. He had a look at the clock on the wall. It was half past five, and he was told to go there the next morning. He had to return to the factory. He felt hungry and went into a restaurant and ate something. He didn't see a thief following him, and as soon as he sat at table, the man sat down next to him and asked him to drink a cup with him. He agreed and drank a lot. And when he woke up two hours later, his money was stolen. He was sad of it and cried for a long time.\n",
      "The following day Mr White saw the young man's eyes were red and asked what had happened to him. He told him about it and at last he said, \"I worked for the thief last month!\"\n",
      ",.\n",
      "Question: Mabel asked Sam to   _  .\n",
      "A. make money in the town\n",
      "B. borrow some money from his friend\n",
      "C. spend the winter in town\n",
      "D. build a house in her village\n",
      "Answer:\n",
      "Passage: Sam is twenty-seven now. He's tall and strong. He worked hard in the small field. He's known a girl called Mabel for three years, who lives in another village. He wishes she could marry him soon, but she won't marry him until he has built a new house. He hasn't enough money. Of course it's difficult for him to do so.\n",
      "Winter had come and the fields were covered with thick snow. Sam had nothing to do at home. Mabel told him to find some _ in the town. He thought she was right and came to Mr White's factory, where he carried stones from the hill to the workplaces. It was hard work but he was paid more. At the end of the month Mr White paid the young man nearly two thousand dollars. He was very happy. He hurried to the post office, but it was closed. He had a look at the clock on the wall. It was half past five, and he was told to go there the next morning. He had to return to the factory. He felt hungry and went into a restaurant and ate something. He didn't see a thief following him, and as soon as he sat at table, the man sat down next to him and asked him to drink a cup with him. He agreed and drank a lot. And when he woke up two hours later, his money was stolen. He was sad of it and cried for a long time.\n",
      "The following day Mr White saw the young man's eyes were red and asked what had happened to him. He told him about it and at last he said, \"I worked for the thief last month!\"\n",
      ",.\n",
      "Question: Mabel asked Sam to   _  .\n",
      "Answer:\n"
     ]
    }
   ],
   "source": [
    "dset_info = get_dataset_info('mini_rm')\n",
    "print(dset_info)\n",
    "dataset = load_mini_rm(0, False)\n",
    "print(f\"type: {type(dataset)} | length: {len(dataset)}\")\n",
    "data = dataset[0]\n",
    "print(data.parts)\n",
    "print(data.choices)\n",
    "print(data.answer_idx)\n",
    "print(data.task)\n",
    "print(data.exemplars)\n",
    "\n",
    "print(data.get_natural_prompt())\n",
    "print(data.get_brown_prompt())"
   ]
  }
 ],
 "metadata": {
  "kernelspec": {
   "display_name": "Python 3",
   "language": "python",
   "name": "python3"
  },
  "language_info": {
   "codemirror_mode": {
    "name": "ipython",
    "version": 3
   },
   "file_extension": ".py",
   "mimetype": "text/x-python",
   "name": "python",
   "nbconvert_exporter": "python",
   "pygments_lexer": "ipython3",
   "version": "3.9.7"
  },
  "orig_nbformat": 4
 },
 "nbformat": 4,
 "nbformat_minor": 2
}

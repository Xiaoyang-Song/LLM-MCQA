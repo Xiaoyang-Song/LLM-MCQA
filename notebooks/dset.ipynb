{
 "cells": [
  {
   "cell_type": "code",
   "execution_count": 1,
   "metadata": {},
   "outputs": [],
   "source": [
    "%load_ext autoreload\n",
    "%autoreload 2"
   ]
  },
  {
   "cell_type": "code",
   "execution_count": 2,
   "metadata": {},
   "outputs": [],
   "source": [
    "import sys\n",
    "sys.path.append(\"../\")\n",
    "from dataset.utils import *\n",
    "from dataset.datasets import *"
   ]
  },
  {
   "attachments": {},
   "cell_type": "markdown",
   "metadata": {},
   "source": [
    "### COSMOS-QA"
   ]
  },
  {
   "cell_type": "code",
   "execution_count": 4,
   "metadata": {},
   "outputs": [
    {
     "name": "stdout",
     "output_type": "stream",
     "text": [
      "DatasetInfo(path='cosmos_qa', exemplar_split='train', eval_split='validation', extractor=<function get_cqa_dataset_info.<locals>.<lambda> at 0x7f9452809af0>, name=None, data_dir=None)\n"
     ]
    },
    {
     "name": "stderr",
     "output_type": "stream",
     "text": [
      "Found cached dataset cosmos_qa (/Users/xiaoyangsong/Desktop/LLM-MCQA/notebooks/hf_cache/cosmos_qa/default/0.1.0/3e18538cbfdb2c04189b16642715f0f6da3e97ed5df0aadcec3641245b2cf157)\n",
      "Found cached dataset cosmos_qa (/Users/xiaoyangsong/Desktop/LLM-MCQA/notebooks/hf_cache/cosmos_qa/default/0.1.0/3e18538cbfdb2c04189b16642715f0f6da3e97ed5df0aadcec3641245b2cf157)\n"
     ]
    },
    {
     "name": "stdout",
     "output_type": "stream",
     "text": [
      "type: <class 'list'> | length: 500\n",
      "QuestionWithExemplars(parts=[QuestionPart(text=\"We climbed to the East Peak of Mt. Tam and back from SF on this fine Labor Day afternoon ( about 50mi ) . I did n't think I was able to do it ( it 's a 2.4 kft hill ) , but we did it anyway . I do n't know about the others but I had to push myself ( although it might not look it !\", tag='Passage'), QuestionPart(text='Why do you think you were able to do the hike despite being unsure you would be able to ?', tag='Question')], choices=['I tend to underestimate my ability of what I can do', 'I am out of shape but the hike was easy', 'The hike was not difficult so it was easy to do', 'I was overthinking whether I could do it when deep down I knew it would be simple'], answer_idx=0, task=None)\n"
     ]
    }
   ],
   "source": [
    "dset_info = get_dataset_info('cqa')\n",
    "print(dset_info)\n",
    "dataset = get_questions_with_exemplars(info=dset_info, n_shots=0,n=500, do_strong_shuffle=False)\n",
    "# dataset = load_mini_rm(0, False, 500)\n",
    "print(f\"type: {type(dataset)} | length: {len(dataset)}\")\n",
    "print(dataset[0])\n"
   ]
  },
  {
   "cell_type": "code",
   "execution_count": 5,
   "metadata": {},
   "outputs": [
    {
     "name": "stderr",
     "output_type": "stream",
     "text": [
      "Found cached dataset cosmos_qa (/Users/xiaoyangsong/Desktop/LLM-MCQA/notebooks/hf_cache/cosmos_qa/default/0.1.0/3e18538cbfdb2c04189b16642715f0f6da3e97ed5df0aadcec3641245b2cf157)\n",
      "Found cached dataset cosmos_qa (/Users/xiaoyangsong/Desktop/LLM-MCQA/notebooks/hf_cache/cosmos_qa/default/0.1.0/3e18538cbfdb2c04189b16642715f0f6da3e97ed5df0aadcec3641245b2cf157)\n"
     ]
    },
    {
     "name": "stdout",
     "output_type": "stream",
     "text": [
      "Dataset [cqa] with 500 questions are loaded successfully!\n",
      "Passage: We climbed to the East Peak of Mt. Tam and back from SF on this fine Labor Day afternoon ( about 50mi ) . I did n't think I was able to do it ( it 's a 2.4 kft hill ) , but we did it anyway . I do n't know about the others but I had to push myself ( although it might not look it !\n",
      "Question: Why do you think you were able to do the hike despite being unsure you would be able to ?\n",
      "A. I tend to underestimate my ability of what I can do\n",
      "B. I am out of shape but the hike was easy\n",
      "C. The hike was not difficult so it was easy to do\n",
      "D. I was overthinking whether I could do it when deep down I knew it would be simple\n",
      "Answer:\n",
      "0\n"
     ]
    }
   ],
   "source": [
    "dset = QADSET('cqa', 500, True)\n",
    "print(dset.get_npq()[0][0])\n",
    "print(dset.get_npq()[0][1])"
   ]
  },
  {
   "attachments": {},
   "cell_type": "markdown",
   "metadata": {},
   "source": [
    "### RACE"
   ]
  },
  {
   "cell_type": "code",
   "execution_count": 15,
   "metadata": {},
   "outputs": [
    {
     "name": "stderr",
     "output_type": "stream",
     "text": [
      "Found cached dataset race (/Users/xiaoyangsong/Desktop/LLM-MCQA/notebooks/hf_cache/race/middle/0.1.0/5839ff74a429622f5f20cca69c5fcf0e87ac6d5fd2777c42b948000684829f7b)\n"
     ]
    },
    {
     "name": "stdout",
     "output_type": "stream",
     "text": [
      "['We should go to school on foot or by bike.', 'We should use plastic  bags when we go shopping.', 'We should use both sides of the paper to write.', \"We should plant more trees to protect the animals' living.\"]\n",
      "type: <class 'list'> | length: 500\n"
     ]
    }
   ],
   "source": [
    "dset_info = get_dataset_info('rm')\n",
    "print(dset_info)\n",
    "dataset = get_questions_with_exemplars(info=dset_info, n_shots=0, n=500, do_strong_shuffle=False)\n",
    "data = dataset[40]\n",
    "# print(data.parts)\n",
    "print(data.choices)\n",
    "print(f\"type: {type(dataset)} | length: {len(dataset)}\")"
   ]
  },
  {
   "cell_type": "code",
   "execution_count": 17,
   "metadata": {},
   "outputs": [
    {
     "name": "stdout",
     "output_type": "stream",
     "text": [
      "We should use plastic  bags when we go shopping.\n"
     ]
    }
   ],
   "source": [
    "from transformers import AutoTokenizer\n",
    "from models.utils import *\n",
    "tokenizer = AutoTokenizer.from_pretrained('gpt2', cache_dir=HF_CACHE_DIR_NAME)\n",
    "choice = dataset[40].choices[1]\n",
    "print(choice)\n",
    "tokens = tokenizer(\": \" + choice, return_tensors=\"pt\", add_special_tokens=False)"
   ]
  },
  {
   "attachments": {},
   "cell_type": "markdown",
   "metadata": {},
   "source": [
    "### MMLU"
   ]
  },
  {
   "cell_type": "code",
   "execution_count": null,
   "metadata": {},
   "outputs": [],
   "source": [
    "dset_info = get_dataset_info('mmlu')\n",
    "print(dset_info)\n",
    "dataset = get_questions_with_exemplars(info=dset_info, n_shots=0, n=10, do_strong_shuffle=False)\n",
    "print(f\"type: {type(dataset)} | length: {len(dataset)}\")\n",
    "data = dataset[40]\n",
    "print(data.parts)\n",
    "print(data.choices)"
   ]
  }
 ],
 "metadata": {
  "kernelspec": {
   "display_name": "Python 3",
   "language": "python",
   "name": "python3"
  },
  "language_info": {
   "codemirror_mode": {
    "name": "ipython",
    "version": 3
   },
   "file_extension": ".py",
   "mimetype": "text/x-python",
   "name": "python",
   "nbconvert_exporter": "python",
   "pygments_lexer": "ipython3",
   "version": "3.9.7"
  },
  "orig_nbformat": 4
 },
 "nbformat": 4,
 "nbformat_minor": 2
}
